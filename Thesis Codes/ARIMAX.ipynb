{
 "cells": [
  {
   "cell_type": "code",
   "execution_count": null,
   "metadata": {},
   "outputs": [],
   "source": [
    "# import statements for ARIMAX\n",
    "import pandas as pd\n",
    "import numpy as np\n",
    "import matplotlib.pyplot as plt\n",
    "from statsmodels.tsa.statespace.sarimax import SARIMAX\n",
    "from statsmodels.tsa.stattools import adfuller\n",
    "from statsmodels.tsa.stattools import kpss\n"
   ]
  },
  {
   "cell_type": "code",
   "execution_count": null,
   "metadata": {},
   "outputs": [],
   "source": [
    "# load data\n",
    "df = pd.read_csv('AQI.csv')\n",
    "df['time'] = pd.to_datetime(df['time'])\n",
    "\n",
    "# set time as index\n",
    "df.set_index('time', inplace=True)\n"
   ]
  },
  {
   "cell_type": "code",
   "execution_count": null,
   "metadata": {},
   "outputs": [],
   "source": [
    "# function for stationarity test\n",
    "\n",
    "def adf_test(timeseries):\n",
    "    result = adfuller(timeseries, autolag='AIC')\n",
    "    print('\\nADF Statistic: %f' % result[0])\n",
    "    print('p-value: %f' % result[1])\n",
    "\n",
    "def kpss_test(timeseries):\n",
    "    result = kpss(timeseries, regression='c')\n",
    "    print('\\nKPSS Statistic: %f' % result[0])\n",
    "    print('p-value: %f' % result[1])\n"
   ]
  },
  {
   "cell_type": "code",
   "execution_count": null,
   "metadata": {},
   "outputs": [],
   "source": [
    "# visualize moving average\n",
    "def plot_moving_average(timeseries, window):\n",
    "    rolmean = timeseries.rolling(window=window).mean()\n",
    "    rolstd = timeseries.rolling(window=window).std()\n",
    "    plt.plot(timeseries, color='blue', label='Original')\n",
    "    plt.plot(rolmean, color='red', label='Rolling Mean')\n",
    "    plt.plot(rolstd, color='black', label='Rolling Std')\n",
    "    plt.legend(loc='best')\n",
    "    plt.title('Rolling Mean & Standard Deviation')\n",
    "    plt.show()\n",
    "\n",
    "# plot moving average\n",
    "plot_moving_average(df['PM2.5'], 24)\n"
   ]
  },
  {
   "cell_type": "code",
   "execution_count": null,
   "metadata": {},
   "outputs": [],
   "source": [
    "variables = ['AMB_TEMP', 'CH4', 'CO', 'NMHC', 'NO', 'NO2', 'NOx', 'O3', 'PM10', 'RAINFALL', 'RH', 'SO2', 'THC', 'WD_HR', 'WIND_DIREC', 'WIND_SPEED', 'WS_HR', 'PM2.5']"
   ]
  },
  {
   "cell_type": "code",
   "execution_count": null,
   "metadata": {},
   "outputs": [],
   "source": [
    "# check for stationarity\n",
    "for var in variables:\n",
    "    print(var)\n",
    "    adf_test(df[var])\n",
    "    kpss_test(df[var])"
   ]
  },
  {
   "cell_type": "code",
   "execution_count": null,
   "metadata": {},
   "outputs": [],
   "source": [
    "# differencing\n",
    "for variable in variables:\n",
    "    df[f'{variable}_diff'] = df[variable] - df[variable].shift(1)"
   ]
  },
  {
   "cell_type": "code",
   "execution_count": null,
   "metadata": {},
   "outputs": [],
   "source": [
    "# removve first row\n",
    "df = df.dropna()"
   ]
  },
  {
   "cell_type": "code",
   "execution_count": null,
   "metadata": {},
   "outputs": [],
   "source": [
    "# check for stationarity\n",
    "for var in variables:\n",
    "    print(var)\n",
    "    adf_test(df[f'{var}_diff'])\n",
    "    kpss_test(df[f'{var}_diff'])"
   ]
  },
  {
   "cell_type": "code",
   "execution_count": null,
   "metadata": {},
   "outputs": [],
   "source": [
    "# plot moving average of differenced data\n",
    "plot_moving_average(df['PM2.5_diff'].dropna(), 24)\n"
   ]
  },
  {
   "cell_type": "code",
   "execution_count": null,
   "metadata": {},
   "outputs": [],
   "source": [
    "# test for stationarity\n",
    "for variable in variables:\n",
    "    print(variable)\n",
    "    adf_test(df[f'{variable}_diff'])\n",
    "    print('\\n')\n"
   ]
  },
  {
   "cell_type": "code",
   "execution_count": null,
   "metadata": {},
   "outputs": [],
   "source": [
    "for variable in variables:\n",
    "    print(variable)\n",
    "    kpss_test(df[f'{variable}_diff'])\n",
    "    print('\\n')"
   ]
  },
  {
   "cell_type": "code",
   "execution_count": null,
   "metadata": {},
   "outputs": [],
   "source": [
    "forecast_steps = 48"
   ]
  },
  {
   "cell_type": "code",
   "execution_count": null,
   "metadata": {},
   "outputs": [],
   "source": [
    "# split data into 4 folds, each fold contains data from one season\n",
    "df_winter_1 = df[(df.index.year == 2018) & (df.index.month < 3)]\n",
    "df_spring_1 = df[(df.index.year == 2018) & (df.index.month >= 3) & (df.index.month < 6)]\n",
    "df_summer_1 = df[(df.index.year == 2018) & (df.index.month >= 6) & (df.index.month < 9)]\n",
    "df_fall_1 = df[(df.index.year == 2018) & (df.index.month >= 9) & (df.index.month < 12)]\n",
    "df_winter_2 = df[((df.index.year == 2018) & (df.index.month >= 12)) | ((df.index.year == 2019) & (df.index.month < 3))]\n",
    "df_spring_2 = df[(df.index.year == 2019) & (df.index.month >= 3) & (df.index.month < 6)]\n",
    "df_summer_2 = df[(df.index.year == 2019) & (df.index.month >= 6) & (df.index.month < 9)]\n",
    "df_fall_2 = df[(df.index.year == 2019) & (df.index.month >= 9) & (df.index.month < 12)]\n",
    "df_winter_3 = df[((df.index.year == 2019) & (df.index.month >= 12)) | ((df.index.year == 2020) & (df.index.month < 3))]\n",
    "df_spring_3 = df[(df.index.year == 2020) & (df.index.month >= 3) & (df.index.month < 6)]\n",
    "df_summer_3 = df[(df.index.year == 2020) & (df.index.month >= 6) & (df.index.month < 9)]\n",
    "df_fall_3 = df[(df.index.year == 2020) & (df.index.month >= 9) & (df.index.month < 12)]\n",
    "df_winter_4 = df[((df.index.year == 2020) & (df.index.month >= 12)) | ((df.index.year == 2021) & (df.index.month < 3))]\n",
    "df_spring_4 = df[(df.index.year == 2021) & (df.index.month >= 3) & (df.index.month < 6)]\n",
    "df_summer_4 = df[(df.index.year == 2021) & (df.index.month >= 6) & (df.index.month < 9)]\n",
    "df_fall_4 = df[(df.index.year == 2021) & (df.index.month >= 9) & (df.index.month < 12)]\n",
    "\n",
    "\n",
    "\n",
    "\n",
    "df_list = [df_winter_1, df_spring_1, df_summer_1, df_fall_1, df_winter_2, df_spring_2, df_summer_2, df_fall_2, df_winter_3, df_spring_3, df_summer_3, df_fall_3, df_winter_4, df_spring_4, df_summer_4, df_fall_4]\n",
    "diff_list = [f'{variable}_diff' for variable in variables]\n",
    "\n",
    "# split train and validation data\n",
    "def split_data(df_list, i, forecast_steps):\n",
    "    train = df_list[i][:-168]\n",
    "    valid = df_list[i][-168:]\n",
    "    exog_train = train[diff_list]\n",
    "    exog_valid = valid[diff_list]\n",
    "    return train, valid, exog_train, exog_valid\n"
   ]
  },
  {
   "cell_type": "code",
   "execution_count": null,
   "metadata": {},
   "outputs": [],
   "source": [
    "# ARIMAX model\n",
    "def evaluate_arimax_model(y, X, order, forecast_steps):\n",
    "    # Fit the model\n",
    "    model = SARIMAX(y, exog=X, order = order, seasonal_order=(0,0,0,0))\n",
    "    model_fit = model.fit(disp=False)\n",
    "    aic = model_fit.aic\n",
    "    # Make predictions\n",
    "    forecast = model_fit.forecast(steps=forecast_steps, exog=X[-forecast_steps:])\n",
    "\n",
    "    return forecast, aic"
   ]
  },
  {
   "cell_type": "code",
   "execution_count": null,
   "metadata": {},
   "outputs": [],
   "source": [
    "import warnings\n",
    "warnings.filterwarnings('ignore')  # Ignore all warnings\n",
    "\n",
    "'''p_values = [1,2,3,4,5]\n",
    "q_values = [0,1,2,3,4]'''\n",
    "\n",
    "p_values = [1]\n",
    "q_values = [0]\n",
    "\n",
    "rmse_lst = []\n",
    "mae_lst = []\n",
    "aic_lst = []\n",
    "best_score, best_cfg = float(\"inf\"), None\n",
    "\n",
    "for p in p_values:\n",
    "    for q in q_values:\n",
    "        order = (p, 0, q)\n",
    "        rmse_lst.clear()  # Clear lists before each model order\n",
    "        mae_lst.clear()\n",
    "        aic_lst.clear()\n",
    "        \n",
    "        for fold in range(16):\n",
    "            train, valid, exog_train, exog_valid = split_data(df_list, fold, forecast_steps)\n",
    "            result, aic= evaluate_arimax_model(train['PM2.5_diff'], exog_train, order, forecast_steps)\n",
    "            \n",
    "            # Set index for result to match valid\n",
    "            result.index = valid.index[:forecast_steps]\n",
    "            rmse = np.sqrt(np.mean((result - valid['PM2.5_diff'])**2))\n",
    "            mae = np.mean(np.abs(result - valid['PM2.5_diff']))\n",
    "            \n",
    "            rmse_lst.append(rmse)\n",
    "            mae_lst.append(mae)\n",
    "            aic_lst.append(aic)\n",
    "            \n",
    "            print('fold:', fold, 'RMSE:', rmse, 'MAE:', mae, 'AIC:', aic)\n",
    "        \n",
    "        # Calculate average RMSE, MAE, and AIC for validation\n",
    "        rmse_mean = np.mean(rmse_lst)\n",
    "        mae_mean = np.mean(mae_lst)\n",
    "        aic_mean = np.mean(aic_lst)\n",
    "        \n",
    "        print('ARIMA%s RMSE=%.3f, MAE=%.3f, AIC=%.3f' % (order, rmse_mean, mae_mean, aic_mean))\n",
    "        \n",
    "        # If current AIC is lower than best_score, update best_cfg and best_score\n",
    "        if aic_mean < best_score:\n",
    "            best_score, best_cfg = aic_mean, order\n",
    "            RMSE_valid, MAE_valid = rmse_mean, mae_mean\n",
    "\n",
    "print('Best ARIMA%s AIC=%.3f' % (best_cfg, best_score))\n"
   ]
  },
  {
   "cell_type": "code",
   "execution_count": null,
   "metadata": {},
   "outputs": [],
   "source": [
    "print('MAE_valid:', MAE_valid)\n",
    "print('RMSE_valid:', RMSE_valid)"
   ]
  },
  {
   "cell_type": "code",
   "execution_count": null,
   "metadata": {},
   "outputs": [],
   "source": [
    "p, d, q = 1, 0, 0\n",
    "\n",
    "new_train = df\n",
    "test = df[35064:]\n",
    "\n",
    "# Train initial SARIMAX model\n",
    "model = SARIMAX(new_train['PM2.5_diff'], exog=new_train[diff_list], order=(p, d, q))\n",
    "model_fit = model.fit()\n"
   ]
  },
  {
   "cell_type": "code",
   "execution_count": null,
   "metadata": {},
   "outputs": [],
   "source": [
    "# clear df index\n",
    "new_df = df.reset_index(drop=True, inplace=False)\n",
    "#re index from 0\n",
    "new_df.index = range(len(new_df))"
   ]
  },
  {
   "cell_type": "code",
   "execution_count": null,
   "metadata": {},
   "outputs": [],
   "source": [
    "# clear df index\n",
    "def re_index(df_list):\n",
    "    for df in df_list:\n",
    "        df.reset_index(drop=True, inplace=True)\n",
    "        df.index = range(len(df))\n",
    "\n",
    "re_index(df_list)"
   ]
  },
  {
   "cell_type": "code",
   "execution_count": null,
   "metadata": {},
   "outputs": [],
   "source": [
    "forecast_steps = 48 \n",
    "\n",
    "# Initialize forecast_results DataFrame\n",
    "forecast_results = pd.DataFrame(index=test.index, columns=[f'T+{i}' for i in range(1, forecast_steps+1)])\n",
    "print(forecast_results.shape)\n",
    "\n",
    "# Define starting point for rolling forecast\n",
    "initial_data_points = -168\n"
   ]
  },
  {
   "cell_type": "code",
   "execution_count": null,
   "metadata": {},
   "outputs": [],
   "source": [
    "# Perform rolling forecast\n",
    "for idx in range(initial_data_points, len(new_df) - forecast_steps):\n",
    "    # Prepare training data up to the current point\n",
    "    rolling_train = new_df.loc[:new_df.index[idx - 1], 'PM2.5_diff']\n",
    "    rolling_exog = new_df.loc[:new_df.index[idx - 1], diff_list]\n",
    "    \n",
    "    # Prepare exogenous variables for the forecast period\n",
    "    current_exog = new_df.loc[new_df.index[idx:idx + forecast_steps], diff_list]\n",
    "    \n",
    "    # Forecast for the next 48 hours\n",
    "    model = SARIMAX(rolling_train, exog=rolling_exog, order=(p, d, q))\n",
    "    model_fit = model.fit(disp=False)\n",
    "    forecast = model_fit.forecast(steps=forecast_steps, exog=current_exog)\n",
    "    \n",
    "    # Store forecast results\n",
    "    forecast_results.loc[new_df.index[idx], :] = forecast.values\n",
    "\n",
    "    # Optionally, add the actual observed value to the training data for the next iteration\n",
    "    if idx + forecast_steps < len(new_df):\n",
    "        observed_value = new_df.loc[new_df.index[idx + forecast_steps], 'PM2.5_diff']\n",
    "        new_df.loc[new_df.index[idx + forecast_steps], 'PM2.5_diff'] = observed_value\n",
    "\n",
    "# Print or use forecast_results\n",
    "print(forecast_results.head())"
   ]
  }
 ],
 "metadata": {
  "kernelspec": {
   "display_name": "Python 3",
   "language": "python",
   "name": "python3"
  },
  "language_info": {
   "codemirror_mode": {
    "name": "ipython",
    "version": 3
   },
   "file_extension": ".py",
   "mimetype": "text/x-python",
   "name": "python",
   "nbconvert_exporter": "python",
   "pygments_lexer": "ipython3",
   "version": "3.11.4"
  }
 },
 "nbformat": 4,
 "nbformat_minor": 2
}
