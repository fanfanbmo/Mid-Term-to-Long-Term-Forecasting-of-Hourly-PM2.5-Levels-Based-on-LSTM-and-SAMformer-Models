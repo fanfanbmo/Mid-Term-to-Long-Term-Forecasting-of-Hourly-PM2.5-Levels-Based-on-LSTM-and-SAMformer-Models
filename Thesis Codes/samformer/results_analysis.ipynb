{
 "cells": [
  {
   "cell_type": "code",
   "execution_count": null,
   "metadata": {},
   "outputs": [],
   "source": [
    "# python run.py --model transformer --target PM2.5 --use_sam --data AQI --feature_type MS --seq_len 168 --pred_len 48 --train_epochs 200  --learning_rate 0.0001 --add_results --n_block 4 --num_heads 4 --d_model 24 --ff_dim 4096 --batch_size 64 --rho 0.4"
   ]
  },
  {
   "cell_type": "code",
   "execution_count": null,
   "metadata": {},
   "outputs": [],
   "source": [
    "# import libraries\n",
    "import numpy as np\n",
    "import pandas as pd\n",
    "import matplotlib.pyplot as plt\n",
    "import seaborn as sns\n",
    "\n"
   ]
  },
  {
   "cell_type": "code",
   "execution_count": null,
   "metadata": {},
   "outputs": [],
   "source": [
    "# load data\n",
    "sequence_length = 168\n",
    "prediction_length = 48\n",
    "fold = 2\n",
    "folder = str(sequence_length) + '_' + str(prediction_length) + '/fold' + str(fold)\n",
    "# read npy files\n",
    "y_test_pred = np.load('results/predictions_transformer_AQI/' + folder + '/y_test_pred.npy')\n",
    "y_test = np.load('results/predictions_transformer_AQI/' + folder + '/y_test.npy')\n",
    "y_train = np.load('results/predictions_transformer_AQI/' + folder + '/y_train.npy')\n",
    "y_train_pred = np.load('results/predictions_transformer_AQI/' + folder + '/y_train_pred.npy')\n",
    "y_val_pred = np.load('results/predictions_transformer_AQI/' + folder + '/y_val_pred.npy')\n",
    "y_val = np.load('results/predictions_transformer_AQI/' + folder + '/y_val.npy')\n"
   ]
  },
  {
   "cell_type": "code",
   "execution_count": null,
   "metadata": {},
   "outputs": [],
   "source": [
    "# print shape\n",
    "print(y_train.shape)\n",
    "print(y_train_pred.shape)\n",
    "print(y_val.shape)\n",
    "print(y_val_pred.shape)\n",
    "print(y_test.shape)\n",
    "print(y_test_pred.shape)\n"
   ]
  },
  {
   "cell_type": "code",
   "execution_count": null,
   "metadata": {},
   "outputs": [],
   "source": [
    "# reshape\n",
    "y_train = y_train.reshape(y_train.shape[0], y_train.shape[1])\n",
    "y_val = y_val.reshape(y_val.shape[0], y_val.shape[1])\n",
    "y_test = y_test.reshape(y_test.shape[0], y_test.shape[1])\n",
    "\n",
    "#print shape\n",
    "print(\"y_train shape: \", y_train.shape)\n",
    "print(\"y_val shape: \", y_val.shape)\n",
    "print(\"y_test shape: \", y_test.shape)"
   ]
  },
  {
   "cell_type": "code",
   "execution_count": null,
   "metadata": {},
   "outputs": [],
   "source": [
    "# calculate rmse and mae for validation and test set\n",
    "rmse_train = np.sqrt(np.mean((y_train - y_train_pred)**2))\n",
    "mae_train = np.mean(np.abs(y_train - y_train_pred))\n",
    "rmse_val = np.sqrt(np.mean((y_val - y_val_pred)**2))\n",
    "mae_val = np.mean(np.abs(y_val - y_val_pred))\n",
    "\n",
    "# when calculating rmse and mae for test set, we need to exclude missing values\n",
    "# load missing_indexes.csv\n",
    "missing_indexes = pd.read_csv('C:/Users/zhang/Desktop/Thesis/Data/missing_indexes.csv')\n",
    "# only use the test set\n",
    "missing_indexes = missing_indexes.loc[35064:]\n",
    "# delete the index column\n",
    "missing_indexes = missing_indexes.drop('time', axis=1)\n",
    "# reshape missing_indexes\n",
    "prediction_length = 48\n",
    "def create_sequences(df, pred_length):\n",
    "    ys = []\n",
    "    for i in range(len(df) - pred_length + 1):\n",
    "        y = df[i :i + pred_length]\n",
    "        ys.append(y)\n",
    "    return np.array(ys)\n",
    "missing_indexes_sequence = create_sequences(missing_indexes, prediction_length)\n",
    "# reshape missing_indexes_sequence\n",
    "missing_indexes_sequence = missing_indexes_sequence.reshape(missing_indexes_sequence.shape[0], missing_indexes_sequence.shape[1])\n",
    "# mask missing values\n",
    "rmse_test = np.sqrt(np.mean((y_test[~missing_indexes_sequence] - y_test_pred[~missing_indexes_sequence])**2))\n",
    "mae_test = np.mean(np.abs(y_test[~missing_indexes_sequence] - y_test_pred[~missing_indexes_sequence]))\n",
    "\n",
    "'''# calculate rmse and mae for test set\n",
    "rmse_test = np.sqrt(np.mean((y_test - y_test_pred)**2))\n",
    "mae_test = np.mean(np.abs(y_test - y_test_pred))'''\n",
    "\n",
    "print(\"rmse_train: \", rmse_train)\n",
    "print(\"mae_train: \", mae_train)\n",
    "print(\"rmse_val: \", rmse_val)\n",
    "print(\"mae_val: \", mae_val)\n",
    "print(\"rmse_test: \", rmse_test)\n",
    "print(\"mae_test: \", mae_test)\n",
    "\n",
    "#save results\n",
    "results = pd.DataFrame(columns=['rmse_train', 'mae_train', 'rmse_val', 'mae_val', 'rmse_test', 'mae_test'])\n",
    "results.loc[0] = [rmse_train, mae_train, rmse_val, mae_val, rmse_test, mae_test]\n",
    "results.to_csv('results/predictions_transformer_AQI/' + folder + '/results.csv', index=False)"
   ]
  },
  {
   "cell_type": "code",
   "execution_count": null,
   "metadata": {},
   "outputs": [],
   "source": [
    "# split test set into 4 seasons\n",
    "#start date for each season is March 1 (spring), June 1 (summer), September 1 (fall), and December 1 (winter)\n",
    "y_test_spring = y_test[59*24:151*24]\n",
    "y_test_summer = y_test[151*24:243*24]\n",
    "y_test_fall = y_test[243*24:334*24]\n",
    "y_test_winter = np.concatenate((y_test[334*24:], y_test[:59*24]))\n",
    "\n",
    "print(\"y_test_spring shape: \", y_test_spring.shape)\n",
    "\n",
    "y_test_pred_spring = y_test_pred[59*24:151*24]\n",
    "y_test_pred_summer = y_test_pred[151*24:243*24]\n",
    "y_test_pred_fall = y_test_pred[243*24:334*24]\n",
    "y_test_pred_winter = np.concatenate((y_test_pred[334*24:], y_test_pred[:59*24]))\n",
    "                                    "
   ]
  },
  {
   "cell_type": "code",
   "execution_count": null,
   "metadata": {},
   "outputs": [],
   "source": [
    "# calcuate rmse and mae for each season\n",
    "# spring\n",
    "rmse_test_spring = np.sqrt(np.mean((y_test_spring[~missing_indexes_sequence[59*24:151*24]] - y_test_pred_spring[~missing_indexes_sequence[59*24:151*24]])**2))\n",
    "mae_test_spring = np.mean(np.abs(y_test_spring[~missing_indexes_sequence[59*24:151*24]] - y_test_pred_spring[~missing_indexes_sequence[59*24:151*24]]))\n",
    "# summer\n",
    "rmse_test_summer = np.sqrt(np.mean((y_test_summer[~missing_indexes_sequence[151*24:243*24]] - y_test_pred_summer[~missing_indexes_sequence[151*24:243*24]])**2))\n",
    "mae_test_summer = np.mean(np.abs(y_test_summer[~missing_indexes_sequence[151*24:243*24]] - y_test_pred_summer[~missing_indexes_sequence[151*24:243*24]]))\n",
    "# fall\n",
    "rmse_test_fall = np.sqrt(np.mean((y_test_fall[~missing_indexes_sequence[243*24:334*24]] - y_test_pred_fall[~missing_indexes_sequence[243*24:334*24]])**2))\n",
    "mae_test_fall = np.mean(np.abs(y_test_fall[~missing_indexes_sequence[243*24:334*24]] - y_test_pred_fall[~missing_indexes_sequence[243*24:334*24]]))\n",
    "# winter\n",
    "missing_indexes_sequence_winter = np.concatenate((missing_indexes_sequence[334*24:], missing_indexes_sequence[:59*24]))\n",
    "rmse_test_winter = np.sqrt(np.mean((y_test_winter[~missing_indexes_sequence_winter] - y_test_pred_winter[~missing_indexes_sequence_winter])**2))\n",
    "mae_test_winter = np.mean(np.abs(y_test_winter[~missing_indexes_sequence_winter] - y_test_pred_winter[~missing_indexes_sequence_winter]))\n",
    "\n",
    "print(\"rmse_test_spring: \", rmse_test_spring)\n",
    "print(\"mae_test_spring: \", mae_test_spring)\n",
    "print(\"rmse_test_summer: \", rmse_test_summer)\n",
    "print(\"mae_test_summer: \", mae_test_summer)\n",
    "print(\"rmse_test_fall: \", rmse_test_fall)\n",
    "print(\"mae_test_fall: \", mae_test_fall)\n",
    "print(\"rmse_test_winter: \", rmse_test_winter)\n",
    "print(\"mae_test_winter: \", mae_test_winter)\n"
   ]
  },
  {
   "cell_type": "code",
   "execution_count": null,
   "metadata": {},
   "outputs": [],
   "source": [
    "'''# calcuate rmse and mae for each season without mask\n",
    "# spring\n",
    "rmse_test_spring = np.sqrt(np.mean((y_test_spring - y_test_pred_spring)**2))\n",
    "mae_test_spring = np.mean(np.abs(y_test_spring - y_test_pred_spring))\n",
    "# summer\n",
    "rmse_test_summer = np.sqrt(np.mean((y_test_summer - y_test_pred_summer)**2))\n",
    "mae_test_summer = np.mean(np.abs(y_test_summer - y_test_pred_summer))\n",
    "# fall\n",
    "rmse_test_fall = np.sqrt(np.mean((y_test_fall - y_test_pred_fall)**2))\n",
    "mae_test_fall = np.mean(np.abs(y_test_fall - y_test_pred_fall))\n",
    "# winter\n",
    "rmse_test_winter = np.sqrt(np.mean((y_test_winter - y_test_pred_winter)**2))\n",
    "mae_test_winter = np.mean(np.abs(y_test_winter - y_test_pred_winter))\n",
    "\n",
    "print(\"rmse_test_spring: \", rmse_test_spring)\n",
    "print(\"mae_test_spring: \", mae_test_spring)\n",
    "print(\"rmse_test_summer: \", rmse_test_summer)\n",
    "print(\"mae_test_summer: \", mae_test_summer)\n",
    "print(\"rmse_test_fall: \", rmse_test_fall)\n",
    "print(\"mae_test_fall: \", mae_test_fall)\n",
    "print(\"rmse_test_winter: \", rmse_test_winter)\n",
    "print(\"mae_test_winter: \", mae_test_winter)'''"
   ]
  },
  {
   "cell_type": "code",
   "execution_count": null,
   "metadata": {},
   "outputs": [],
   "source": [
    "'''# add time labels\n",
    "# train: '2018-01-01 00:00:00') - '2020-12-31 23:00:00'\n",
    "# validation: '2021-01-01 00:00:00' - '2021-12-31 23:00:00'\n",
    "# test: '2022-01-01 00:00:00 - time <= '2022-12-31 23:00:00'\n",
    "time = pd.date_range(start='2018-01-01 00:00:00', end='2022-12-31 23:00:00', freq='H')\n",
    "time_train = time[0:y_train.shape[0]]\n",
    "time_val = time[y_train.shape[0]:y_train.shape[0]+y_val.shape[0]]\n",
    "time_test = time[y_train.shape[0]+y_val.shape[0]:]\n",
    "\n",
    "# create dataframes with time as index\n",
    "df_train = pd.DataFrame(y_train)\n",
    "df_train_pred = pd.DataFrame(y_train_pred)\n",
    "df_val = pd.DataFrame(y_val)\n",
    "df_val_pred = pd.DataFrame(y_val_pred)\n",
    "df_test = pd.DataFrame(y_test)\n",
    "df_test_pred = pd.DataFrame(y_test_pred)\n",
    "\n",
    "df_train.index = time_train\n",
    "df_train_pred.index = time_train\n",
    "df_val.index = time_val\n",
    "df_val_pred.index = time_val\n",
    "df_test.index = time_test\n",
    "df_test_pred.index = time_test'''\n"
   ]
  },
  {
   "cell_type": "code",
   "execution_count": null,
   "metadata": {},
   "outputs": [],
   "source": [
    "# calculate average y-test\n",
    "y_test_avg = np.mean(y_test, axis=1)\n",
    "y_test_pred_avg = np.mean(y_test_pred, axis=1)\n"
   ]
  },
  {
   "cell_type": "code",
   "execution_count": null,
   "metadata": {},
   "outputs": [],
   "source": [
    "# plot average test results\n",
    "plt.figure(figsize=(14, 7))\n",
    "plt.plot(y_test_avg, label='True')\n",
    "plt.plot(y_test_pred_avg, 'r', label='Predicted')\n",
    "plt.xlabel('Time')\n",
    "plt.legend()\n",
    "plt.ylabel('PM2.5')\n",
    "\n",
    "#save the plot\n",
    "plt.savefig('results/predictions_transformer_AQI/' + folder + f'/SAMFormer{prediction_length}.png')\n"
   ]
  },
  {
   "cell_type": "code",
   "execution_count": null,
   "metadata": {},
   "outputs": [],
   "source": [
    "# calculate average y-validation\n",
    "y_val_avg = np.mean(y_val, axis=1)\n",
    "y_val_pred_avg = np.mean(y_val_pred, axis=1)\n"
   ]
  },
  {
   "cell_type": "code",
   "execution_count": null,
   "metadata": {},
   "outputs": [],
   "source": [
    "# plot average validation results\n",
    "plt.figure(figsize=(14, 7))\n",
    "plt.plot(y_val_avg, label='True')\n",
    "plt.plot(y_val_pred_avg, 'r', label='Predicted')\n",
    "plt.xlabel('Time')\n",
    "plt.legend()\n",
    "plt.ylabel('PM2.5')\n",
    "\n",
    "#save the plot\n",
    "plt.savefig('results/predictions_transformer_AQI/' + folder + f'/SAMFormer{prediction_length}_val.png')"
   ]
  }
 ],
 "metadata": {
  "kernelspec": {
   "display_name": "Python 3",
   "language": "python",
   "name": "python3"
  },
  "language_info": {
   "codemirror_mode": {
    "name": "ipython",
    "version": 3
   },
   "file_extension": ".py",
   "mimetype": "text/x-python",
   "name": "python",
   "nbconvert_exporter": "python",
   "pygments_lexer": "ipython3",
   "version": "3.11.4"
  }
 },
 "nbformat": 4,
 "nbformat_minor": 2
}
